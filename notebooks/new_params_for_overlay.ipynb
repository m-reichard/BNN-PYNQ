{
 "cells": [
  {
   "cell_type": "markdown",
   "metadata": {
    "deletable": true,
    "editable": true
   },
   "source": [
    "# Setting up new parameters for an existing overlay\n",
    "\n",
    "We'll now have a look at how to set up new parameters from a trained network for an existing overlay.\n",
    "This notebook will be somewhat different than the rest of the BNN-PYNQ notebooks, as it will mostly consist of invocations of shell commands and existing Python scripts.\n",
    "\n",
    "In this example, we will operate directly inside the existing BNN-PYNQ installation. This is not good practice since it will e.g. prevent a clean uninstallation, but here we do this for rapid development and convenience.\n",
    "\n",
    "BNN-PYNQ comes with a folder with BinaryNet (using Lasagne + Theano) training scripts to reproduce the existing networks. We will start by having a look at what's inside.\n"
   ]
  },
  {
   "cell_type": "code",
   "execution_count": null,
   "metadata": {
    "collapsed": false,
    "deletable": true,
    "editable": true
   },
   "outputs": [],
   "source": [
    "import bnn\n",
    "root_dir = bnn.bnn.BNN_ROOT_DIR\n",
    "param_dir = bnn.bnn.BNN_PARAM_DIR\n",
    "training_dir = root_dir + \"/src/training\"\n",
    "!ls $training_dir"
   ]
  },
  {
   "cell_type": "markdown",
   "metadata": {
    "deletable": true,
    "editable": true
   },
   "source": [
    "In the rest of this notebook, we will set up a Fashion-MNIST network on the LFC topology. Here is a brief overview of the files that we will use for this:\n",
    "* fashion-mnist-train/download_trained_params.sh to download the pre-trained Theano/BinaryNet parameters\n",
    "* fashion-mnist-gen-binary-weights.py to convert the Theano/BinaryNet parameters to BNN-PYNQ parameters for the LFC overlay\n",
    "* **If you'd like to train from scratch:** First use the fashion-mnist-train/download_data.sh script, then execute fashion-mnist.py but this would take quite some time to train. If you'd like to try this out yourself, you can read the README.md in the training directory for setting up Lasagne and Theano.\n",
    "* **More details: ** lfc.py creates the network structure supported by the LFC overlay. finnthesizer.py contains the conversion logic for packing weights into the overlay memories, absorbing batchnorm into thresholds and so on.\n",
    "\n",
    "## Getting the Trained Network Parameters\n",
    "\n",
    "We will start by downloading the trained parameters using the provided script:"
   ]
  },
  {
   "cell_type": "code",
   "execution_count": null,
   "metadata": {
    "collapsed": false,
    "deletable": true,
    "editable": true
   },
   "outputs": [],
   "source": [
    "!cd $training_dir/fashion-mnist-train; sh download_trained_params.sh"
   ]
  },
  {
   "cell_type": "markdown",
   "metadata": {
    "deletable": true,
    "editable": true
   },
   "source": [
    "The file we just downloaded containts the trained the network parameters as a compressed numpy array. Before these can be used by the BNN-PYNQ overlay, they need to be converted and packed appropriately. This involves \"folding\" the weight matrices into the processing elements, as decribed by the FINN paper.\n",
    "\n",
    "## Generating the BNN-PYNQ Weights\n",
    "\n",
    "We can now use the **fashion-mnist-gen-binary-weights.py** script, which is very similar to the other gen-binary-weights scripts using LFC (just using a different parameter file), to produce the BNN-PYNQ weight files."
   ]
  },
  {
   "cell_type": "code",
   "execution_count": null,
   "metadata": {
    "collapsed": false,
    "deletable": true,
    "editable": true
   },
   "outputs": [],
   "source": [
    "!cd $training_dir; python fashion-mnist-gen-binary-weights.py"
   ]
  },
  {
   "cell_type": "markdown",
   "metadata": {
    "deletable": true,
    "editable": true
   },
   "source": [
    "## Using the New Weights with the LFC Overlay\n",
    "\n",
    "Once the weights have been generated, we can copy the new weight folder into the BNN-PYNQ parameter folder, such that they will be detected by the Python API. Afterwards, we can instantiate a classifier and load the weights to start classifying images."
   ]
  },
  {
   "cell_type": "code",
   "execution_count": null,
   "metadata": {
    "collapsed": false,
    "deletable": true,
    "editable": true
   },
   "outputs": [],
   "source": [
    "!cp -r $training_dir/fashion-mnist-lfc $param_dir/\n",
    "bnn.available_params(bnn.NETWORK_LFC)"
   ]
  },
  {
   "cell_type": "code",
   "execution_count": null,
   "metadata": {
    "collapsed": false,
    "deletable": true,
    "editable": true
   },
   "outputs": [],
   "source": [
    "c = bnn.PynqBNN(network=bnn.NETWORK_LFC)\n",
    "c.load_parameters(\"fashion-mnist-lfc\")\n",
    "print(c.classes)"
   ]
  },
  {
   "cell_type": "code",
   "execution_count": null,
   "metadata": {
    "collapsed": false,
    "deletable": true,
    "editable": true
   },
   "outputs": [],
   "source": [
    "from PIL import Image\n",
    "# load image using PIL and convert to black and white\n",
    "img_ankleboot = Image.open(\"ankle_boot.jpg\").convert(\"L\")\n",
    "img_ankleboot"
   ]
  },
  {
   "cell_type": "code",
   "execution_count": null,
   "metadata": {
    "collapsed": false,
    "deletable": true,
    "editable": true
   },
   "outputs": [],
   "source": [
    "with open(\"ankleboot-mnist-formatted\", \"wb\") as fp:\n",
    "  c.image_to_mnist(img_ankleboot, fp, invert=True)\n",
    "ret_ankleboot = c.inference(\"ankleboot-mnist-formatted\")\n",
    "print(\"Predicted class: \" + c.classes[ret_ankleboot])"
   ]
  },
  {
   "cell_type": "code",
   "execution_count": null,
   "metadata": {
    "collapsed": true,
    "deletable": true,
    "editable": true
   },
   "outputs": [],
   "source": []
  }
 ],
 "metadata": {
  "kernelspec": {
   "display_name": "Python 3",
   "language": "python",
   "name": "python3"
  },
  "language_info": {
   "codemirror_mode": {
    "name": "ipython",
    "version": 3
   },
   "file_extension": ".py",
   "mimetype": "text/x-python",
   "name": "python",
   "nbconvert_exporter": "python",
   "pygments_lexer": "ipython3",
   "version": "3.6.0"
  }
 },
 "nbformat": 4,
 "nbformat_minor": 2
}
